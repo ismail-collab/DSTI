{
 "cells": [
  {
   "cell_type": "markdown",
   "metadata": {},
   "source": [
    "###### These exercises are inspired from Andrew Ng Coursera Deep Learning specialisation and INRIA FUN MOOC on Python "
   ]
  },
  {
   "cell_type": "markdown",
   "metadata": {},
   "source": [
    "Broadcasting in python is a mecanism which duplicates a scalar or vector to perform elementwise operations on matrix or vectors"
   ]
  },
  {
   "cell_type": "code",
   "execution_count": 1,
   "metadata": {},
   "outputs": [
    {
     "name": "stdout",
     "output_type": "stream",
     "text": [
      "[[0.34643498 0.95678443 0.08441256]\n",
      " [0.61644992 0.99758413 0.24404046]\n",
      " [0.67905183 0.42475856 0.82300463]\n",
      " [0.49401663 0.84481113 0.11461532]]\n"
     ]
    }
   ],
   "source": [
    "import numpy as np\n",
    "A = np.random.rand(4,3)\n",
    "print(A)"
   ]
  },
  {
   "cell_type": "markdown",
   "metadata": {},
   "source": [
    "For instance, we can broadcast a scalar b to add b to each element of A"
   ]
  },
  {
   "cell_type": "code",
   "execution_count": 2,
   "metadata": {},
   "outputs": [
    {
     "data": {
      "text/plain": [
       "array([[2.34643498, 2.95678443, 2.08441256],\n",
       "       [2.61644992, 2.99758413, 2.24404046],\n",
       "       [2.67905183, 2.42475856, 2.82300463],\n",
       "       [2.49401663, 2.84481113, 2.11461532]])"
      ]
     },
     "execution_count": 2,
     "metadata": {},
     "output_type": "execute_result"
    }
   ],
   "source": [
    "b = 2\n",
    "A + b"
   ]
  },
  {
   "cell_type": "markdown",
   "metadata": {},
   "source": [
    "to sum horizontally the elements of A, we can call sum on A with the argument axis = 1"
   ]
  },
  {
   "cell_type": "code",
   "execution_count": 3,
   "metadata": {},
   "outputs": [
    {
     "data": {
      "text/plain": [
       "array([1.38763198, 1.85807451, 1.92681503, 1.45344309])"
      ]
     },
     "execution_count": 3,
     "metadata": {},
     "output_type": "execute_result"
    }
   ],
   "source": [
    "A.sum(axis= 1)"
   ]
  },
  {
   "cell_type": "markdown",
   "metadata": {},
   "source": [
    "to sum vertically, the argument is axis =0"
   ]
  },
  {
   "cell_type": "markdown",
   "metadata": {},
   "source": [
    "We can do elementwise operations between a matrix with a vector thanks to python broadcasting.\n",
    "Let's define a vector u as the vertical sum of all columns of A and use it on A"
   ]
  },
  {
   "cell_type": "code",
   "execution_count": 4,
   "metadata": {},
   "outputs": [
    {
     "name": "stdout",
     "output_type": "stream",
     "text": [
      "[2.13595337 3.22393826 1.26607298]\n",
      "(3,)\n"
     ]
    }
   ],
   "source": [
    "u = A.sum(axis = 0)\n",
    "print(u)\n",
    "print(u.shape)"
   ]
  },
  {
   "cell_type": "markdown",
   "metadata": {},
   "source": [
    "For security reshape u to force its shape (1,3). Defining a vector with only one dimension, leaving the other empty such as u is defined above, can have terrible cost in debugging."
   ]
  },
  {
   "cell_type": "code",
   "execution_count": 20,
   "metadata": {},
   "outputs": [
    {
     "name": "stdout",
     "output_type": "stream",
     "text": [
      "[[2.13595337 3.22393826 1.26607298]]\n",
      "(1, 3)\n"
     ]
    }
   ],
   "source": [
    "u = u.reshape(1,3)\n",
    "print(u)\n",
    "print(u.shape)"
   ]
  },
  {
   "cell_type": "markdown",
   "metadata": {},
   "source": [
    "divide A by u"
   ]
  },
  {
   "cell_type": "code",
   "execution_count": 6,
   "metadata": {},
   "outputs": [
    {
     "name": "stdout",
     "output_type": "stream",
     "text": [
      "[[0.1621922  0.29677505 0.06667275]\n",
      " [0.28860645 0.30943028 0.19275387]\n",
      " [0.3179151  0.13175146 0.65004518]\n",
      " [0.23128624 0.26204321 0.09052821]]\n"
     ]
    }
   ],
   "source": [
    "div = A/u\n",
    "print(div)"
   ]
  },
  {
   "cell_type": "markdown",
   "metadata": {},
   "source": [
    "We have broadcasted vector u on each element of A"
   ]
  },
  {
   "cell_type": "markdown",
   "metadata": {},
   "source": [
    "Exercise:\n",
    "compute, for each values of A, its percentage in regard of the total column sum of A and store it in a object w"
   ]
  },
  {
   "cell_type": "code",
   "execution_count": 7,
   "metadata": {},
   "outputs": [
    {
     "name": "stdout",
     "output_type": "stream",
     "text": [
      "[[0.34643498 0.95678443 0.08441256]\n",
      " [0.61644992 0.99758413 0.24404046]\n",
      " [0.67905183 0.42475856 0.82300463]\n",
      " [0.49401663 0.84481113 0.11461532]]\n",
      "[[2.13595337 3.22393826 1.26607298]]\n"
     ]
    }
   ],
   "source": [
    "print(A)\n",
    "print(u)"
   ]
  },
  {
   "cell_type": "code",
   "execution_count": 8,
   "metadata": {},
   "outputs": [
    {
     "name": "stdout",
     "output_type": "stream",
     "text": [
      "[[16.21922029 29.67750483  6.66727476]\n",
      " [28.86064512 30.94302839 19.27538651]\n",
      " [31.79151016 13.17514573 65.00451752]\n",
      " [23.12862443 26.20432105  9.05282121]]\n"
     ]
    }
   ],
   "source": [
    "w = A/u*100\n",
    "print(w)"
   ]
  },
  {
   "cell_type": "code",
   "execution_count": 9,
   "metadata": {},
   "outputs": [
    {
     "data": {
      "text/plain": [
       "array([100., 100., 100.])"
      ]
     },
     "execution_count": 9,
     "metadata": {},
     "output_type": "execute_result"
    }
   ],
   "source": [
    "sum(w)"
   ]
  },
  {
   "cell_type": "markdown",
   "metadata": {
    "collapsed": true
   },
   "source": [
    "Lets define two matrix with different dimensions, (3, 1) and (1, 5)"
   ]
  },
  {
   "cell_type": "code",
   "execution_count": 10,
   "metadata": {},
   "outputs": [
    {
     "name": "stdout",
     "output_type": "stream",
     "text": [
      "[[1]\n",
      " [2]\n",
      " [3]]\n"
     ]
    }
   ],
   "source": [
    "col = np.arange(1, 4).reshape((3, 1))\n",
    "print(col)"
   ]
  },
  {
   "cell_type": "code",
   "execution_count": 11,
   "metadata": {},
   "outputs": [
    {
     "name": "stdout",
     "output_type": "stream",
     "text": [
      "[100 200 300 400 500]\n"
     ]
    }
   ],
   "source": [
    "line = 100 * np.arange(1, 6)\n",
    "print(line)"
   ]
  },
  {
   "cell_type": "markdown",
   "metadata": {},
   "source": [
    "Add the two matrix col and line thanks to broadcasting"
   ]
  },
  {
   "cell_type": "code",
   "execution_count": 12,
   "metadata": {},
   "outputs": [
    {
     "name": "stdout",
     "output_type": "stream",
     "text": [
      "[[101 201 301 401 501]\n",
      " [102 202 302 402 502]\n",
      " [103 203 303 403 503]]\n"
     ]
    }
   ],
   "source": [
    "m = col + line\n",
    "print(m)"
   ]
  },
  {
   "cell_type": "markdown",
   "metadata": {},
   "source": [
    "Broacasting base rules  \n",
    "We can broadcast A and B when there is a dimension C which 'spreads' both these of A and B  \n",
    "So we can only broadcast from 1 to n.  \n",
    "If there is a dimension p> 1 dividing n,  we cannot broadcast from p to n."
   ]
  },
  {
   "cell_type": "markdown",
   "metadata": {},
   "source": [
    "Define  \n",
    "\n",
    "A with dimensions  15 x 3 x 5  \n",
    "B with dimensions  15 x 1 x 5  \n",
    "verify A+B has dimensions 15 x 3 x 5  \n",
    "\n",
    "Try also for \n",
    "\n",
    "B is dimensions 3 x 5  \n",
    "B is dimensions 3 x 1  \n",
    "B is dimensions 1  "
   ]
  },
  {
   "cell_type": "code",
   "execution_count": 13,
   "metadata": {},
   "outputs": [],
   "source": [
    "A = np.random.rand(15,3,5)\n",
    "B = np.random.rand(15,1,5)"
   ]
  },
  {
   "cell_type": "code",
   "execution_count": 14,
   "metadata": {},
   "outputs": [
    {
     "data": {
      "text/plain": [
       "(15, 1, 5)"
      ]
     },
     "execution_count": 14,
     "metadata": {},
     "output_type": "execute_result"
    }
   ],
   "source": [
    "A.shape\n",
    "B.shape"
   ]
  },
  {
   "cell_type": "code",
   "execution_count": 15,
   "metadata": {},
   "outputs": [],
   "source": [
    "C = A+B"
   ]
  },
  {
   "cell_type": "code",
   "execution_count": 16,
   "metadata": {},
   "outputs": [
    {
     "data": {
      "text/plain": [
       "(15, 3, 5)"
      ]
     },
     "execution_count": 16,
     "metadata": {},
     "output_type": "execute_result"
    }
   ],
   "source": [
    "C.shape"
   ]
  },
  {
   "cell_type": "markdown",
   "metadata": {},
   "source": [
    "Define A and B with following dimensions and check if you can broadcast\n",
    "\n",
    "A shape as: 2 x 1\n",
    "\n",
    "B shape as:  8 x 4 x 3"
   ]
  },
  {
   "cell_type": "code",
   "execution_count": 17,
   "metadata": {},
   "outputs": [],
   "source": [
    "A = np.random.rand(2,1)\n",
    "B = np.random.rand(8, 4,3)"
   ]
  },
  {
   "cell_type": "code",
   "execution_count": 18,
   "metadata": {},
   "outputs": [
    {
     "name": "stdout",
     "output_type": "stream",
     "text": [
      "(2, 1)\n",
      "(8, 4, 3)\n"
     ]
    }
   ],
   "source": [
    "print(A.shape)\n",
    "print(B.shape)"
   ]
  },
  {
   "cell_type": "code",
   "execution_count": 19,
   "metadata": {},
   "outputs": [
    {
     "name": "stdout",
     "output_type": "stream",
     "text": [
      "(2, 1, 1)\n",
      "(8, 4, 3)\n"
     ]
    }
   ],
   "source": [
    "A = A.reshape(2,1,1)\n",
    "print(A.shape)\n",
    "print(B.shape)"
   ]
  },
  {
   "cell_type": "markdown",
   "metadata": {},
   "source": [
    "we would need p > 1 dimension to broadcast (i.e. 4, 4, 3), so no solution"
   ]
  }
 ],
 "metadata": {
  "kernelspec": {
   "display_name": "Python 3 (ipykernel)",
   "language": "python",
   "name": "python3"
  },
  "language_info": {
   "codemirror_mode": {
    "name": "ipython",
    "version": 3
   },
   "file_extension": ".py",
   "mimetype": "text/x-python",
   "name": "python",
   "nbconvert_exporter": "python",
   "pygments_lexer": "ipython3",
   "version": "3.7.1"
  }
 },
 "nbformat": 4,
 "nbformat_minor": 2
}
