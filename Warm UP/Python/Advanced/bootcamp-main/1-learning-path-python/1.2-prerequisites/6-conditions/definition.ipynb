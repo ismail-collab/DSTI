{
 "cells": [
  {
   "cell_type": "markdown",
   "id": "88597cf7",
   "metadata": {},
   "source": [
    "# Definition\n",
    "\n",
    "- A conditional statement in python evaluates if a condition is `True` or `False`\n",
    "- The evaluation operator is `==`\n",
    "- The statement used to evaluate a condition is `if`\n"
   ]
  },
  {
   "cell_type": "code",
   "execution_count": 1,
   "id": "b67c16b5",
   "metadata": {},
   "outputs": [],
   "source": [
    "# Declaring a variable a with value 0\n",
    "#\n",
    "a = 0\n",
    "#\n",
    "# Evaluate if a is equal to 1 and return \"hello\" if the condition is True.\n",
    "# Here, the condition declared is : a must be equal to 1 to print \"hello\".\n",
    "#\n",
    "if a == 1:\n",
    "    print(\"hello\")\n",
    "#\n",
    "# Nothing is returned because the condition is evaluated to False"
   ]
  },
  {
   "cell_type": "code",
   "execution_count": 2,
   "id": "5ad22f97",
   "metadata": {},
   "outputs": [
    {
     "name": "stdout",
     "output_type": "stream",
     "text": [
      "hello\n"
     ]
    }
   ],
   "source": [
    "# Declaring a variable a with value 1\n",
    "a = 1\n",
    "#\n",
    "# Evaluate if a is equal to 1 and return \"hello\" if the condition is True\n",
    "#\n",
    "if a == 1:\n",
    "    print(\"hello\")\n",
    "#\n",
    "# \"hello\" is printed because the condition is evaluated to True"
   ]
  },
  {
   "cell_type": "markdown",
   "id": "4aca865b",
   "metadata": {},
   "source": [
    "- Alternative statement can be added in case the condition evaluates to `False`\n",
    "    - `else` will declare a default alternative if the condition is evaluated to `False`"
   ]
  },
  {
   "cell_type": "code",
   "execution_count": 3,
   "id": "230ed851",
   "metadata": {},
   "outputs": [
    {
     "name": "stdout",
     "output_type": "stream",
     "text": [
      "a is not equal to one\n"
     ]
    }
   ],
   "source": [
    "a = 0\n",
    "if a == 1:\n",
    "    print(\"hello\")\n",
    "else:\n",
    "    print(\"a is not equal to one\")"
   ]
  },
  {
   "cell_type": "markdown",
   "id": "081d161a",
   "metadata": {},
   "source": [
    "- Multiple alternative statements can be added in case the condition evaluates to `False`\n",
    "    - `elif` will declare a specific alternative\n",
    "    - `else` will declare a default alternative if all previous conditions are evaluated to `False`"
   ]
  },
  {
   "cell_type": "code",
   "execution_count": 4,
   "id": "4f66c082",
   "metadata": {},
   "outputs": [
    {
     "name": "stdout",
     "output_type": "stream",
     "text": [
      "something else\n"
     ]
    }
   ],
   "source": [
    "a = 3\n",
    "if a == 1:\n",
    "    print(\"hello\")\n",
    "elif a==0:\n",
    "    print(\"hola\")\n",
    "else:\n",
    "    print(\"something else\")"
   ]
  }
 ],
 "metadata": {
  "kernelspec": {
   "display_name": "Python 3 (ipykernel)",
   "language": "python",
   "name": "python3"
  },
  "language_info": {
   "codemirror_mode": {
    "name": "ipython",
    "version": 3
   },
   "file_extension": ".py",
   "mimetype": "text/x-python",
   "name": "python",
   "nbconvert_exporter": "python",
   "pygments_lexer": "ipython3",
   "version": "3.9.13"
  }
 },
 "nbformat": 4,
 "nbformat_minor": 5
}
