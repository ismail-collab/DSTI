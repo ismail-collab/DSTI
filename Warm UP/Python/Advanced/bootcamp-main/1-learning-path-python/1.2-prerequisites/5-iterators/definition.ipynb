{
 "cells": [
  {
   "cell_type": "markdown",
   "id": "0bc3ae81",
   "metadata": {},
   "source": [
    "# Definition\n",
    "\n",
    "- An iterator is an object used to iterate over sequences like lists, tuples, dicts, and sets. \n",
    "- It is usually used in `for` and `while` loops"
   ]
  },
  {
   "cell_type": "markdown",
   "id": "4bc0ad93",
   "metadata": {},
   "source": [
    "- Let's define an iterator `i` to iterate over a list L\n",
    "- This iterator is used in a `for` loop to iterate over each element in the sequence L\n",
    "- The syntax of the `for` statement, as for all statements in python, requires an indentation \n",
    "- Indentation is the leading whitespace (spaces or/and tabs) before any statement\n",
    "- `i` is a convention, an iterator can take any name"
   ]
  },
  {
   "cell_type": "code",
   "execution_count": 1,
   "id": "9cf9003e",
   "metadata": {},
   "outputs": [
    {
     "name": "stdout",
     "output_type": "stream",
     "text": [
      "1\n",
      "2\n",
      "3\n"
     ]
    }
   ],
   "source": [
    "L = [1,2,3]\n",
    "for i in L:\n",
    "    print(i)"
   ]
  },
  {
   "cell_type": "code",
   "execution_count": 2,
   "id": "4c097a67",
   "metadata": {},
   "outputs": [
    {
     "name": "stdout",
     "output_type": "stream",
     "text": [
      "1\n",
      "2\n",
      "3\n"
     ]
    }
   ],
   "source": [
    "L = [1,2,3]\n",
    "for element in L:\n",
    "    print(element)"
   ]
  },
  {
   "cell_type": "markdown",
   "id": "3c5b47e3",
   "metadata": {},
   "source": [
    "- Python treats the statements with the same indentation level (statements with an equal number of whitespaces before them) as a single instruction\n",
    "- The following statements are not equivalent"
   ]
  },
  {
   "cell_type": "code",
   "execution_count": 3,
   "id": "e3973918",
   "metadata": {},
   "outputs": [
    {
     "name": "stdout",
     "output_type": "stream",
     "text": [
      "3\n",
      "4\n",
      "5\n",
      "4\n",
      "5\n",
      "6\n"
     ]
    }
   ],
   "source": [
    "for i in L:\n",
    "    print(i+2)\n",
    "for i in L:\n",
    "    print(i+3)"
   ]
  },
  {
   "cell_type": "code",
   "execution_count": 4,
   "id": "08959a08",
   "metadata": {},
   "outputs": [
    {
     "name": "stdout",
     "output_type": "stream",
     "text": [
      "\n",
      "3\n",
      "4\n",
      "5\n",
      "6\n",
      "\n",
      "4\n",
      "4\n",
      "5\n",
      "6\n",
      "\n",
      "5\n",
      "4\n",
      "5\n",
      "6\n"
     ]
    }
   ],
   "source": [
    "for i in L:\n",
    "    print()\n",
    "    print(i+2)\n",
    "    for i in L:\n",
    "        print(i+3)"
   ]
  },
  {
   "cell_type": "markdown",
   "id": "3d4a9cf4",
   "metadata": {},
   "source": [
    "- An iterator can refer to the values of the sequence"
   ]
  },
  {
   "cell_type": "code",
   "execution_count": 5,
   "id": "1c7f2470",
   "metadata": {},
   "outputs": [
    {
     "name": "stdout",
     "output_type": "stream",
     "text": [
      "1\n",
      "2\n",
      "3\n"
     ]
    }
   ],
   "source": [
    "# The iterator refers to the values in the sequence\n",
    "#\n",
    "for i in L:\n",
    "    print(i)"
   ]
  },
  {
   "cell_type": "markdown",
   "id": "141beee2",
   "metadata": {},
   "source": [
    " - An iterator can refer to the index of the values in the sequence, for instance using the `enumerate()` method\n",
    " - `enumerate()` will iterate over the index of a sequence and return the index and its associated value in a tuple"
   ]
  },
  {
   "cell_type": "code",
   "execution_count": 6,
   "id": "00c34ae5",
   "metadata": {},
   "outputs": [
    {
     "name": "stdout",
     "output_type": "stream",
     "text": [
      "(0, 1)\n",
      "(1, 2)\n",
      "(2, 3)\n"
     ]
    }
   ],
   "source": [
    "# The iterator refers to the index of the values in the sequence, using the enumerate method\n",
    "#\n",
    "for i in enumerate(L):\n",
    "    print(i)"
   ]
  }
 ],
 "metadata": {
  "kernelspec": {
   "display_name": "Python 3 (ipykernel)",
   "language": "python",
   "name": "python3"
  },
  "language_info": {
   "codemirror_mode": {
    "name": "ipython",
    "version": 3
   },
   "file_extension": ".py",
   "mimetype": "text/x-python",
   "name": "python",
   "nbconvert_exporter": "python",
   "pygments_lexer": "ipython3",
   "version": "3.9.13"
  }
 },
 "nbformat": 4,
 "nbformat_minor": 5
}
