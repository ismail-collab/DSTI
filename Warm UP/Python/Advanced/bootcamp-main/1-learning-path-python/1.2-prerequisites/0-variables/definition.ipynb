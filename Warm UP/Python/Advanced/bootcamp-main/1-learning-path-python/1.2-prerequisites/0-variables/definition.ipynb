{
 "cells": [
  {
   "cell_type": "markdown",
   "id": "291d4c87",
   "metadata": {},
   "source": [
    "## Definition\n",
    "\n",
    "- Variables are symbolic names that are references or pointers to objects in memory. They are containers for storing data value\n",
    "\n",
    "- A variable has a `name`, a `value` and a `type`."
   ]
  },
  {
   "cell_type": "markdown",
   "id": "3cbec4d2",
   "metadata": {},
   "source": [
    "### Variable assignement\n",
    "\n",
    "- To declare a variable, use the equality sign between the variable `name` and the variable `value`\n",
    "    - `name` = `value`\n",
    "- In python, variable `types` are assigned dynamically, so they don't need to be declared.\n",
    "    - by default, the variable will take the `type` of the `value` it has been assigned to"
   ]
  },
  {
   "cell_type": "code",
   "execution_count": 4,
   "id": "incorrect-february",
   "metadata": {},
   "outputs": [
    {
     "data": {
      "text/plain": [
       "str"
      ]
     },
     "execution_count": 4,
     "metadata": {},
     "output_type": "execute_result"
    }
   ],
   "source": [
    "a = \"2.5\"\n",
    "type(a)"
   ]
  },
  {
   "cell_type": "markdown",
   "id": "c29b5965",
   "metadata": {},
   "source": [
    "- The result of a computation must be stored in a variable to be reused\n",
    "    - the python interpreter will execute an operation, then delete the result once it's done\n",
    "    - in order to access this result later, it must be stored in memory -> it must be affected to a variable"
   ]
  },
  {
   "cell_type": "code",
   "execution_count": 5,
   "id": "db487989",
   "metadata": {},
   "outputs": [
    {
     "data": {
      "text/plain": [
       "4"
      ]
     },
     "execution_count": 5,
     "metadata": {},
     "output_type": "execute_result"
    }
   ],
   "source": [
    "# run a simple addition\n",
    "# the addition is run, printed by jupyter but is not stored anywhere\n",
    "1+3"
   ]
  },
  {
   "cell_type": "code",
   "execution_count": 6,
   "id": "09fe5dd2",
   "metadata": {},
   "outputs": [],
   "source": [
    "# in order to reuse this computation, it must be stored in a variable, here it is stored in c\n",
    "#\n",
    "c = 1+3"
   ]
  },
  {
   "cell_type": "code",
   "execution_count": 7,
   "id": "36dc5ffb",
   "metadata": {},
   "outputs": [
    {
     "data": {
      "text/plain": [
       "4"
      ]
     },
     "execution_count": 7,
     "metadata": {},
     "output_type": "execute_result"
    }
   ],
   "source": [
    "# now c is available for further use\n",
    "#\n",
    "c"
   ]
  },
  {
   "cell_type": "markdown",
   "id": "debd943a",
   "metadata": {},
   "source": [
    "- In the above example, c is called a `constant`: a `variable` assigned to a unique `value`"
   ]
  },
  {
   "cell_type": "markdown",
   "id": "e34b266b",
   "metadata": {},
   "source": [
    "### Variable types\n",
    "\n",
    "- Python is a dynamically typed langage.\n",
    "\n",
    "- Python interpreter does type checking only as code runs: the type of a variable is allowed to change over its lifetime. \n",
    "\n",
    "    - A variable can be initiated with a type and turned into another type\n",
    "    - For instance, a variable a defined as \"2.5\" can be turned into 2.5 using the *float()* function"
   ]
  },
  {
   "cell_type": "code",
   "execution_count": 8,
   "id": "bac52c14",
   "metadata": {},
   "outputs": [
    {
     "name": "stdout",
     "output_type": "stream",
     "text": [
      "<class 'str'> 2.5\n",
      "<class 'float'> 2.5\n"
     ]
    }
   ],
   "source": [
    "b = \"2.5\"\n",
    "print(type(b), b)\n",
    "b = float(b)\n",
    "print(type(b), b)"
   ]
  },
  {
   "cell_type": "markdown",
   "id": "9c7cde26",
   "metadata": {},
   "source": [
    "Variables in python can assume one of the following types\n",
    "- integers : *int()*\n",
    "- floating point numbers : *float()*\n",
    "- complex numbers : *complex()*\n",
    "- strings : *str()*\n",
    "- booleans : *bool()*\n",
    "\n",
    "\n",
    "For a complete list of available types in python, see [types](https://github.com/tiptales/bootcamp/tree/main/1-learning-path-python/1.2-prerequisites/1-types)"
   ]
  },
  {
   "cell_type": "markdown",
   "id": "c43f2922",
   "metadata": {},
   "source": [
    "### Testing variable types\n",
    "\n",
    "- It is possible to perform a test to evaluate if a variable has a specific type with the `isinstance()` method\n"
   ]
  },
  {
   "cell_type": "code",
   "execution_count": 9,
   "id": "c90256f5",
   "metadata": {},
   "outputs": [
    {
     "data": {
      "text/plain": [
       "True"
      ]
     },
     "execution_count": 9,
     "metadata": {},
     "output_type": "execute_result"
    }
   ],
   "source": [
    "isinstance(\"s\", str)"
   ]
  },
  {
   "cell_type": "code",
   "execution_count": 10,
   "id": "483b5cb5",
   "metadata": {},
   "outputs": [
    {
     "data": {
      "text/plain": [
       "True"
      ]
     },
     "execution_count": 10,
     "metadata": {},
     "output_type": "execute_result"
    }
   ],
   "source": [
    "isinstance(2, int)"
   ]
  },
  {
   "cell_type": "code",
   "execution_count": 11,
   "id": "f513278c",
   "metadata": {},
   "outputs": [
    {
     "data": {
      "text/plain": [
       "False"
      ]
     },
     "execution_count": 11,
     "metadata": {},
     "output_type": "execute_result"
    }
   ],
   "source": [
    "isinstance(2, float)"
   ]
  },
  {
   "cell_type": "code",
   "execution_count": 12,
   "id": "5305bdd1",
   "metadata": {},
   "outputs": [
    {
     "data": {
      "text/plain": [
       "True"
      ]
     },
     "execution_count": 12,
     "metadata": {},
     "output_type": "execute_result"
    }
   ],
   "source": [
    "isinstance(c, int)"
   ]
  }
 ],
 "metadata": {
  "kernelspec": {
   "display_name": "Python 3 (ipykernel)",
   "language": "python",
   "name": "python3"
  },
  "language_info": {
   "codemirror_mode": {
    "name": "ipython",
    "version": 3
   },
   "file_extension": ".py",
   "mimetype": "text/x-python",
   "name": "python",
   "nbconvert_exporter": "python",
   "pygments_lexer": "ipython3",
   "version": "3.9.13"
  }
 },
 "nbformat": 4,
 "nbformat_minor": 5
}
