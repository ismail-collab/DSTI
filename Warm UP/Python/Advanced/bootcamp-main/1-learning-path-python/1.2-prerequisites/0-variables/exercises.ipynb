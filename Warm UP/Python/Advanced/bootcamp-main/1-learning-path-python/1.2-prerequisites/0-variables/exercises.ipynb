{
 "cells": [
  {
   "cell_type": "markdown",
   "id": "4557ef4c",
   "metadata": {},
   "source": [
    "## Exercise 1\n",
    "\n",
    "- declare a variable `A` and affect '3.5' to `A`\n",
    "- turn `A` into a `float`\n",
    "- verify `A` now has type `float`"
   ]
  },
  {
   "cell_type": "code",
   "execution_count": null,
   "id": "96600f5f",
   "metadata": {},
   "outputs": [],
   "source": []
  },
  {
   "cell_type": "markdown",
   "id": "5862ea9e",
   "metadata": {},
   "source": [
    "## Exercise 2\n",
    "\n",
    "- use the *input()* method to ask a user to declare a value\n",
    "- store the output of `input()` into a variable `B`\n",
    "- evaluate the type of `B`"
   ]
  },
  {
   "cell_type": "code",
   "execution_count": null,
   "id": "270423b0",
   "metadata": {},
   "outputs": [],
   "source": [
    "# hint on how to use input()\n",
    "input()"
   ]
  },
  {
   "cell_type": "code",
   "execution_count": null,
   "id": "6f7fd7e7",
   "metadata": {},
   "outputs": [],
   "source": []
  }
 ],
 "metadata": {
  "kernelspec": {
   "display_name": "Python 3 (ipykernel)",
   "language": "python",
   "name": "python3"
  },
  "language_info": {
   "codemirror_mode": {
    "name": "ipython",
    "version": 3
   },
   "file_extension": ".py",
   "mimetype": "text/x-python",
   "name": "python",
   "nbconvert_exporter": "python",
   "pygments_lexer": "ipython3",
   "version": "3.9.13"
  }
 },
 "nbformat": 4,
 "nbformat_minor": 5
}
