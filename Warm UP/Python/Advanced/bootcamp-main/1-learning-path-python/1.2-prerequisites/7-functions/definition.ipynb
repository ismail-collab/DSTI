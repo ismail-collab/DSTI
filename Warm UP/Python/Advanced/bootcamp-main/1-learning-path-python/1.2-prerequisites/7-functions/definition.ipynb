{
 "cells": [
  {
   "cell_type": "markdown",
   "id": "1e3b1439",
   "metadata": {},
   "source": [
    "# Definition\n",
    "\n",
    "- A function is a fundamental building block of code, as it is reuseable\n",
    "- It takes an input, processes it, and returns an output\n",
    "\n",
    "- A function is declared with the keyword `def`\n",
    "- A function has a `name`\n",
    "- Inputs are defined as abstractions and are called the `arguments` of a function. The arguments are given in `()`\n",
    "- The `body` of the function is the block of code where the inputs are processed\n",
    "- In order to persist its results, a `return` statement must be used after the body of the function, otherwise, the results of the computation processed by the body are not persisted in memory\n",
    "\n",
    "- The skeleton for a function is:\n",
    "    - `def name(arguments)`:\n",
    "        - `body` (do something with the arguments)\n",
    "        - `return` something"
   ]
  },
  {
   "cell_type": "code",
   "execution_count": 6,
   "id": "2947daf6",
   "metadata": {},
   "outputs": [],
   "source": [
    "# Declare a function named squaree that takes a numerical argument and returns the square of this numeric\n",
    "#\n",
    "def squaree(x):\n",
    "    # this is the beginning of the body\n",
    "    y = x**2\n",
    "    # this is the end of the body\n",
    "    return y"
   ]
  },
  {
   "cell_type": "markdown",
   "id": "460816ec",
   "metadata": {},
   "source": [
    "- `Squaree()` can now be called on any numerical value"
   ]
  },
  {
   "cell_type": "code",
   "execution_count": 3,
   "id": "5d11bcdb",
   "metadata": {},
   "outputs": [
    {
     "data": {
      "text/plain": [
       "4"
      ]
     },
     "execution_count": 3,
     "metadata": {},
     "output_type": "execute_result"
    }
   ],
   "source": [
    "# on an integer\n",
    "squaree(2)"
   ]
  },
  {
   "cell_type": "code",
   "execution_count": 4,
   "id": "841adc37",
   "metadata": {},
   "outputs": [
    {
     "data": {
      "text/plain": [
       "6.25"
      ]
     },
     "execution_count": 4,
     "metadata": {},
     "output_type": "execute_result"
    }
   ],
   "source": [
    "# on a float\n",
    "squaree(2.5)"
   ]
  },
  {
   "cell_type": "code",
   "execution_count": 5,
   "id": "d7d0546e",
   "metadata": {},
   "outputs": [
    {
     "data": {
      "text/plain": [
       "(-8+6j)"
      ]
     },
     "execution_count": 5,
     "metadata": {},
     "output_type": "execute_result"
    }
   ],
   "source": [
    "# on a complex\n",
    "squaree(1+3j)"
   ]
  },
  {
   "cell_type": "markdown",
   "id": "34d39628",
   "metadata": {},
   "source": [
    "- Functions don't need explicit arguments types\n",
    "- Still, the body of the function must be able to run with the type of the input data provided at runtime\n",
    "- For instance, if we try to call `squaree()` on a list, it will trigger an error, because the body of the function does not contain any iterator"
   ]
  },
  {
   "cell_type": "code",
   "execution_count": 16,
   "id": "cef6b1fa",
   "metadata": {},
   "outputs": [
    {
     "ename": "TypeError",
     "evalue": "unsupported operand type(s) for ** or pow(): 'list' and 'int'",
     "output_type": "error",
     "traceback": [
      "\u001b[0;31m---------------------------------------------------------------------------\u001b[0m",
      "\u001b[0;31mTypeError\u001b[0m                                 Traceback (most recent call last)",
      "Cell \u001b[0;32mIn [16], line 3\u001b[0m\n\u001b[1;32m      1\u001b[0m \u001b[38;5;66;03m# For instance, if we try to call squaree() on a list, it will trigger an error \u001b[39;00m\n\u001b[1;32m      2\u001b[0m \u001b[38;5;66;03m# because the body of the function does not contain any iterator\u001b[39;00m\n\u001b[0;32m----> 3\u001b[0m \u001b[43msquaree\u001b[49m\u001b[43m(\u001b[49m\u001b[43m[\u001b[49m\u001b[38;5;241;43m1\u001b[39;49m\u001b[43m,\u001b[49m\u001b[38;5;241;43m2\u001b[39;49m\u001b[43m]\u001b[49m\u001b[43m)\u001b[49m\n",
      "Cell \u001b[0;32mIn [12], line 4\u001b[0m, in \u001b[0;36msquaree\u001b[0;34m(x)\u001b[0m\n\u001b[1;32m      3\u001b[0m \u001b[38;5;28;01mdef\u001b[39;00m \u001b[38;5;21msquaree\u001b[39m(x):\n\u001b[0;32m----> 4\u001b[0m     y \u001b[38;5;241m=\u001b[39m \u001b[43mx\u001b[49m\u001b[38;5;241;43m*\u001b[39;49m\u001b[38;5;241;43m*\u001b[39;49m\u001b[38;5;241;43m2\u001b[39;49m\n\u001b[1;32m      5\u001b[0m     \u001b[38;5;28;01mreturn\u001b[39;00m y\n",
      "\u001b[0;31mTypeError\u001b[0m: unsupported operand type(s) for ** or pow(): 'list' and 'int'"
     ]
    }
   ],
   "source": [
    "squaree([1,2])"
   ]
  },
  {
   "cell_type": "markdown",
   "id": "40d41162",
   "metadata": {},
   "source": [
    "- The body of the function can be summarized in the return statement if no intermediate data structure is needed during the execution.\n",
    "- i.e. `squaree()` can be written as:"
   ]
  },
  {
   "cell_type": "code",
   "execution_count": 22,
   "id": "37df41fe",
   "metadata": {},
   "outputs": [],
   "source": [
    "def squaree(x):\n",
    "    return x**2"
   ]
  },
  {
   "cell_type": "markdown",
   "id": "732ce8f9",
   "metadata": {},
   "source": [
    "- It is possible to declare a type for the arguments, but not mandatory\n",
    "- Declaring a type is not restrictive, i.e. in the following example, `squaree()` can stil take any numerics as inputs, but it is a good practice"
   ]
  },
  {
   "cell_type": "code",
   "execution_count": 20,
   "id": "f0097588",
   "metadata": {},
   "outputs": [],
   "source": [
    "def squaree(x: int):\n",
    "    y = x**2\n",
    "    return y"
   ]
  },
  {
   "cell_type": "code",
   "execution_count": 19,
   "id": "9f96efef",
   "metadata": {},
   "outputs": [
    {
     "data": {
      "text/plain": [
       "6.25"
      ]
     },
     "execution_count": 19,
     "metadata": {},
     "output_type": "execute_result"
    }
   ],
   "source": [
    "squaree(2.5)"
   ]
  },
  {
   "cell_type": "markdown",
   "id": "de8feb96",
   "metadata": {},
   "source": [
    "- It is possible to declare an expected type for the returned results after the arguments\n",
    "- It is a good practice to declare types for arguments and returned values, but adds no constrain to the execution"
   ]
  },
  {
   "cell_type": "code",
   "execution_count": 21,
   "id": "2642bfa4",
   "metadata": {},
   "outputs": [],
   "source": [
    "def squaree(x: int) -> int:\n",
    "    y = x**2\n",
    "    return y"
   ]
  },
  {
   "cell_type": "markdown",
   "id": "204b3f91",
   "metadata": {},
   "source": [
    "- It is also a good practice to comment what the body of the function does\n"
   ]
  },
  {
   "cell_type": "code",
   "execution_count": 24,
   "id": "8cb23a78",
   "metadata": {},
   "outputs": [],
   "source": [
    "def squaree(x: int) -> int:\n",
    "    \"\"\"\n",
    "    arg x: is a numeric\n",
    "    return: x squarred\n",
    "    \"\"\" \n",
    "    return x**2"
   ]
  }
 ],
 "metadata": {
  "kernelspec": {
   "display_name": "Python 3 (ipykernel)",
   "language": "python",
   "name": "python3"
  },
  "language_info": {
   "codemirror_mode": {
    "name": "ipython",
    "version": 3
   },
   "file_extension": ".py",
   "mimetype": "text/x-python",
   "name": "python",
   "nbconvert_exporter": "python",
   "pygments_lexer": "ipython3",
   "version": "3.9.13"
  }
 },
 "nbformat": 4,
 "nbformat_minor": 5
}
