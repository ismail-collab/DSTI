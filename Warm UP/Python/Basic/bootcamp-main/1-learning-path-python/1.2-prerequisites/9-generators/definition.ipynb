{
 "cells": [
  {
   "cell_type": "markdown",
   "id": "1d565b16",
   "metadata": {},
   "source": [
    "# Definition\n",
    "\n",
    "- Generators are a different approach to iterators\n",
    "- Generators are functions returning an iterable instead of a sequence\n",
    "- To declare a generator, declare a function using a `yield` statement instead of a `return` statement\n",
    "- A `return` statement terminates a function entirely, while a `yield` statement pauses the function, saves all its states and later continues from there on successive calls.\n"
   ]
  },
  {
   "cell_type": "code",
   "execution_count": 2,
   "id": "3547ff78",
   "metadata": {},
   "outputs": [],
   "source": [
    "# Defining a generator that will take a sequence as an argument\n",
    "#\n",
    "def squaree(list_of_x):\n",
    "    for x in list_of_x:\n",
    "        yield(x**2)"
   ]
  },
  {
   "cell_type": "code",
   "execution_count": 3,
   "id": "208397fa",
   "metadata": {},
   "outputs": [],
   "source": [
    "# Instancianting the squaree generator of three elements\n",
    "#\n",
    "to_generate = squaree([4,5,6])"
   ]
  },
  {
   "cell_type": "code",
   "execution_count": 22,
   "id": "c6518e5e",
   "metadata": {},
   "outputs": [
    {
     "data": {
      "text/plain": [
       "16"
      ]
     },
     "execution_count": 22,
     "metadata": {},
     "output_type": "execute_result"
    }
   ],
   "source": [
    "# Calling the generator value by value\n",
    "#\n",
    "# First value\n",
    "#\n",
    "next(to_generate)"
   ]
  },
  {
   "cell_type": "code",
   "execution_count": 23,
   "id": "daed0399",
   "metadata": {},
   "outputs": [
    {
     "data": {
      "text/plain": [
       "25"
      ]
     },
     "execution_count": 23,
     "metadata": {},
     "output_type": "execute_result"
    }
   ],
   "source": [
    "# Second value\n",
    "#\n",
    "next(to_generate)"
   ]
  },
  {
   "cell_type": "code",
   "execution_count": 24,
   "id": "c2da7737",
   "metadata": {},
   "outputs": [
    {
     "data": {
      "text/plain": [
       "36"
      ]
     },
     "execution_count": 24,
     "metadata": {},
     "output_type": "execute_result"
    }
   ],
   "source": [
    "# Third value\n",
    "#\n",
    "next(to_generate)"
   ]
  },
  {
   "cell_type": "markdown",
   "id": "e9c7f5c9",
   "metadata": {},
   "source": [
    "- At the end of the iteration, the generator is empty. \n",
    "- Generators are an efficient way to optimizing memory\n",
    "- Generators can also be called for all values using `list()` instead of `next()`"
   ]
  },
  {
   "cell_type": "code",
   "execution_count": 26,
   "id": "dfb8664c",
   "metadata": {},
   "outputs": [],
   "source": [
    "to_generate = squaree([4,5,6])"
   ]
  },
  {
   "cell_type": "code",
   "execution_count": 27,
   "id": "1e99ed62",
   "metadata": {},
   "outputs": [
    {
     "data": {
      "text/plain": [
       "[16, 25, 36]"
      ]
     },
     "execution_count": 27,
     "metadata": {},
     "output_type": "execute_result"
    }
   ],
   "source": [
    "list(to_generate)"
   ]
  },
  {
   "cell_type": "markdown",
   "id": "b8cb56a3",
   "metadata": {},
   "source": [
    "- Generators can be even more efficient when created from list comprehensions\n",
    "- The syntax is identical to a list comprehensions, except `()` are used instead of `[]`"
   ]
  },
  {
   "cell_type": "code",
   "execution_count": 32,
   "id": "8e4baaf5",
   "metadata": {},
   "outputs": [],
   "source": [
    "to_generate = (i**2 for i in [4,5,6])"
   ]
  },
  {
   "cell_type": "code",
   "execution_count": 33,
   "id": "38d078fa",
   "metadata": {},
   "outputs": [
    {
     "data": {
      "text/plain": [
       "16"
      ]
     },
     "execution_count": 33,
     "metadata": {},
     "output_type": "execute_result"
    }
   ],
   "source": [
    "next(to_generate)"
   ]
  },
  {
   "cell_type": "code",
   "execution_count": 34,
   "id": "69ff8450",
   "metadata": {},
   "outputs": [],
   "source": [
    "to_generate = (i**2 for i in [4,5,6])"
   ]
  },
  {
   "cell_type": "code",
   "execution_count": 35,
   "id": "26093f6a",
   "metadata": {},
   "outputs": [
    {
     "data": {
      "text/plain": [
       "[16, 25, 36]"
      ]
     },
     "execution_count": 35,
     "metadata": {},
     "output_type": "execute_result"
    }
   ],
   "source": [
    "list(to_generate)"
   ]
  }
 ],
 "metadata": {
  "kernelspec": {
   "display_name": "Python 3 (ipykernel)",
   "language": "python",
   "name": "python3"
  },
  "language_info": {
   "codemirror_mode": {
    "name": "ipython",
    "version": 3
   },
   "file_extension": ".py",
   "mimetype": "text/x-python",
   "name": "python",
   "nbconvert_exporter": "python",
   "pygments_lexer": "ipython3",
   "version": "3.9.13"
  }
 },
 "nbformat": 4,
 "nbformat_minor": 5
}
