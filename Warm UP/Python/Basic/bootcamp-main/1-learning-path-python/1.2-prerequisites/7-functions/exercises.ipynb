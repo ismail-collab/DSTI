{
 "cells": [
  {
   "cell_type": "markdown",
   "id": "eaa0f372",
   "metadata": {},
   "source": [
    "### Exercise 1\n",
    "\n",
    "- Define a function `add1()` that takes any numeric x as an argument and returns x + 1"
   ]
  },
  {
   "cell_type": "code",
   "execution_count": 3,
   "id": "64979138",
   "metadata": {},
   "outputs": [
    {
     "data": {
      "text/plain": [
       "3"
      ]
     },
     "execution_count": 3,
     "metadata": {},
     "output_type": "execute_result"
    }
   ],
   "source": [
    "def add1(x : int) -> int :\n",
    "    return x+1\n",
    "\n",
    "add1(2)"
   ]
  },
  {
   "cell_type": "markdown",
   "id": "c95c7750",
   "metadata": {},
   "source": [
    "### Exercise 2\n",
    "\n",
    "- Define a function `add_one_list()` \n",
    "- this function takes any list x as an argument\n",
    "- this function iterates over the list\n",
    "- adds 1 to each value in the list\n",
    "- stores the results in a new list"
   ]
  },
  {
   "cell_type": "code",
   "execution_count": 12,
   "id": "e495d268",
   "metadata": {},
   "outputs": [
    {
     "data": {
      "text/plain": [
       "[2, 3, 4]"
      ]
     },
     "execution_count": 12,
     "metadata": {},
     "output_type": "execute_result"
    }
   ],
   "source": [
    "def add_one_list(x : list) -> list :\n",
    "    new_list =[]\n",
    "    for i in x :\n",
    "        x2 = i + 1\n",
    "        new_list= new_list + [x2]\n",
    "    return new_list\n",
    "\n",
    "add_one_list([1,2,3])"
   ]
  },
  {
   "cell_type": "markdown",
   "id": "3e323710",
   "metadata": {},
   "source": [
    "### Exercise 3\n",
    "\n",
    "- Define a function `even_or_odd()`\n",
    "- this function takes any integer as an argument\n",
    "- this function computes the modulo of the input with %2\n",
    "- if %2 is equal to 0, the function prints \"is even\"\n",
    "- else, the function prints \"is odd\""
   ]
  },
  {
   "cell_type": "code",
   "execution_count": 17,
   "id": "79363936",
   "metadata": {},
   "outputs": [
    {
     "name": "stdout",
     "output_type": "stream",
     "text": [
      "3 is even\n"
     ]
    }
   ],
   "source": [
    "def even_or_odd(x : int) -> str:\n",
    "    if (x%2==0) :\n",
    "        print(x,\"is odd\")\n",
    "    else :\n",
    "        print(x,\"is even\")\n",
    "\n",
    "\n",
    "even_or_odd(3)"
   ]
  },
  {
   "cell_type": "markdown",
   "id": "6d5b9540",
   "metadata": {},
   "source": [
    "### Exercise 4\n",
    "\n",
    "- Define a function `even_or_odd_list()`\n",
    "- this function takes any list as an argument\n",
    "- this function iterates over the list\n",
    "- this function computes the modulo of the input with %2 for each element in the list\n",
    "- if %2 is equal to 0, the function prints (element)\"is even\"\n",
    "- else, the function prints (element)\"is odd\""
   ]
  },
  {
   "cell_type": "code",
   "execution_count": 20,
   "id": "ff97a15a",
   "metadata": {},
   "outputs": [
    {
     "name": "stdout",
     "output_type": "stream",
     "text": [
      "1 is even\n",
      "2 is odd\n",
      "3 is even\n",
      "4 is odd\n",
      "5 is even\n"
     ]
    }
   ],
   "source": [
    "def even_or_odd_list(x : list) -> str:\n",
    "    for i in x :\n",
    "        if i%2 ==0 :\n",
    "            print(i,\"is odd\")\n",
    "        else:\n",
    "            print(i,\"is even\")\n",
    "\n",
    "even_or_odd_list([1,2,3,4,5])"
   ]
  }
 ],
 "metadata": {
  "kernelspec": {
   "display_name": "Python 3 (ipykernel)",
   "language": "python",
   "name": "python3"
  },
  "language_info": {
   "codemirror_mode": {
    "name": "ipython",
    "version": 3
   },
   "file_extension": ".py",
   "mimetype": "text/x-python",
   "name": "python",
   "nbconvert_exporter": "python",
   "pygments_lexer": "ipython3",
   "version": "3.11.2"
  }
 },
 "nbformat": 4,
 "nbformat_minor": 5
}
