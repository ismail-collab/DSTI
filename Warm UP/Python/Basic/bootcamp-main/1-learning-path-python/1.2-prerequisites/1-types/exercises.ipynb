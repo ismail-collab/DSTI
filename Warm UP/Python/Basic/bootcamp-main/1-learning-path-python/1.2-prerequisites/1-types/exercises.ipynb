{
 "cells": [
  {
   "cell_type": "markdown",
   "id": "5dd318cb",
   "metadata": {},
   "source": [
    "### Exercise 1\n",
    "\n",
    "- create variables a, c and d with respective types float, int and str"
   ]
  },
  {
   "cell_type": "code",
   "execution_count": 18,
   "id": "83b4cb33",
   "metadata": {},
   "outputs": [
    {
     "name": "stdout",
     "output_type": "stream",
     "text": [
      "<class 'float'> <class 'int'> <class 'str'>\n"
     ]
    }
   ],
   "source": [
    "a,c,d = 0.0, 0, \"\"\n",
    "print (type(a),type(c),type(d))"
   ]
  },
  {
   "cell_type": "markdown",
   "id": "ff30ea15",
   "metadata": {},
   "source": [
    "### Exercise 2\n",
    "\n",
    "- create variables e, f and g with respective values 2.5, 2 and 'hello'"
   ]
  },
  {
   "cell_type": "code",
   "execution_count": 16,
   "id": "adfed1cd",
   "metadata": {},
   "outputs": [],
   "source": [
    "e,f,g = 2.5, 2, 'hello'"
   ]
  },
  {
   "cell_type": "markdown",
   "id": "a003f07a",
   "metadata": {},
   "source": [
    "### Exercise 3\n",
    "\n",
    "- verify a and e, c and f, d and g have the same types using the *type()* fonction: use the == operator to assess equality\n",
    "- example: *type(a) == type(e)*"
   ]
  },
  {
   "cell_type": "code",
   "execution_count": 19,
   "id": "2e61b092",
   "metadata": {},
   "outputs": [
    {
     "name": "stdout",
     "output_type": "stream",
     "text": [
      "a and e have the same type: True\n",
      "c and f have the same type: True\n",
      "d and g have the same type: True\n"
     ]
    }
   ],
   "source": [
    "print(\"a and e have the same type:\", type(a) == type(e))\n",
    "print(\"c and f have the same type:\", type(c) == type(f))\n",
    "print(\"d and g have the same type:\", type(d) == type(g))\n"
   ]
  }
 ],
 "metadata": {
  "kernelspec": {
   "display_name": "Python 3 (ipykernel)",
   "language": "python",
   "name": "python3"
  },
  "language_info": {
   "codemirror_mode": {
    "name": "ipython",
    "version": 3
   },
   "file_extension": ".py",
   "mimetype": "text/x-python",
   "name": "python",
   "nbconvert_exporter": "python",
   "pygments_lexer": "ipython3",
   "version": "3.11.2"
  }
 },
 "nbformat": 4,
 "nbformat_minor": 5
}
