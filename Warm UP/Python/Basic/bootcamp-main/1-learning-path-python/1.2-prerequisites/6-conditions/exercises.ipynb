{
 "cells": [
  {
   "cell_type": "markdown",
   "id": "679fb1b8",
   "metadata": {},
   "source": [
    "### Exercise 1\n",
    "\n",
    "- Declare a variable a with value 2\n",
    "\n",
    "- Create a conditional statement printing 'Hello World' if a = 2"
   ]
  },
  {
   "cell_type": "markdown",
   "id": "1790f9b1",
   "metadata": {},
   "source": [
    "\n"
   ]
  },
  {
   "cell_type": "code",
   "execution_count": 1,
   "id": "3df265f0",
   "metadata": {},
   "outputs": [
    {
     "name": "stdout",
     "output_type": "stream",
     "text": [
      "Hello World\n"
     ]
    }
   ],
   "source": [
    "a= 2\n",
    "if (a==2): \n",
    "    print(\"Hello World\")"
   ]
  },
  {
   "cell_type": "markdown",
   "id": "41d51471",
   "metadata": {},
   "source": [
    "### Exercise 2 \n",
    " \n",
    "- Declare a list c containing the values 11,3,15\n",
    "- Iterate over each element of c and print the element if its square is equal to 9\n",
    "\n",
    "- Pseudocode\n",
    "    - for element in c:\n",
    "        - if element^2 is 9:\n",
    "            - print it"
   ]
  },
  {
   "cell_type": "code",
   "execution_count": 2,
   "id": "7a100a4c",
   "metadata": {},
   "outputs": [
    {
     "name": "stdout",
     "output_type": "stream",
     "text": [
      "3\n"
     ]
    }
   ],
   "source": [
    "c=[11,3,15]\n",
    "for i in c :\n",
    "    if i**2 == 9 :\n",
    "        print(i)"
   ]
  },
  {
   "cell_type": "markdown",
   "id": "09fcab87",
   "metadata": {},
   "source": [
    "### Exercise 3\n",
    "\n",
    "- Declare a list c containing the values 1,2,3,4,5\n",
    "- iterate over the list and print the even elements only"
   ]
  },
  {
   "cell_type": "code",
   "execution_count": 4,
   "id": "4fc9c146",
   "metadata": {},
   "outputs": [
    {
     "name": "stdout",
     "output_type": "stream",
     "text": [
      "1 Even \n",
      "2 Odd \n",
      "3 Even \n",
      "4 Odd \n",
      "5 Even \n"
     ]
    }
   ],
   "source": [
    "c=[1,2,3,4,5]\n",
    "for i in c :\n",
    "    if(i%2==0):\n",
    "        print(i,\"Odd \")\n",
    "    else :\n",
    "        print(i,\"Even \")"
   ]
  }
 ],
 "metadata": {
  "kernelspec": {
   "display_name": "Python 3 (ipykernel)",
   "language": "python",
   "name": "python3"
  },
  "language_info": {
   "codemirror_mode": {
    "name": "ipython",
    "version": 3
   },
   "file_extension": ".py",
   "mimetype": "text/x-python",
   "name": "python",
   "nbconvert_exporter": "python",
   "pygments_lexer": "ipython3",
   "version": "3.11.2"
  }
 },
 "nbformat": 4,
 "nbformat_minor": 5
}
