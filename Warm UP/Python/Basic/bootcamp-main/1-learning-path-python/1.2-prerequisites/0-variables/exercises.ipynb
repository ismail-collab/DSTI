{
 "cells": [
  {
   "cell_type": "markdown",
   "id": "4557ef4c",
   "metadata": {},
   "source": [
    "## Exercise 1\n",
    "\n",
    "- declare a variable `A` and affect '3.5' to `A`\n",
    "- turn `A` into a `float`\n",
    "- verify `A` now has type `float`"
   ]
  },
  {
   "cell_type": "code",
   "execution_count": 4,
   "id": "96600f5f",
   "metadata": {},
   "outputs": [
    {
     "data": {
      "text/plain": [
       "float"
      ]
     },
     "execution_count": 4,
     "metadata": {},
     "output_type": "execute_result"
    }
   ],
   "source": [
    "A=\"3.5\"\n",
    "A=float(A)\n",
    "type(A)"
   ]
  },
  {
   "cell_type": "markdown",
   "id": "5862ea9e",
   "metadata": {},
   "source": [
    "## Exercise 2\n",
    "\n",
    "- use the *input()* method to ask a user to declare a value\n",
    "- store the output of `input()` into a variable `B`\n",
    "- evaluate the type of `B`"
   ]
  },
  {
   "cell_type": "code",
   "execution_count": 5,
   "id": "270423b0",
   "metadata": {},
   "outputs": [
    {
     "data": {
      "text/plain": [
       "str"
      ]
     },
     "execution_count": 5,
     "metadata": {},
     "output_type": "execute_result"
    }
   ],
   "source": [
    "B=input(\"B :\")\n",
    "type(B)"
   ]
  }
 ],
 "metadata": {
  "kernelspec": {
   "display_name": "Python 3 (ipykernel)",
   "language": "python",
   "name": "python3"
  },
  "language_info": {
   "codemirror_mode": {
    "name": "ipython",
    "version": 3
   },
   "file_extension": ".py",
   "mimetype": "text/x-python",
   "name": "python",
   "nbconvert_exporter": "python",
   "pygments_lexer": "ipython3",
   "version": "3.11.2"
  }
 },
 "nbformat": 4,
 "nbformat_minor": 5
}
