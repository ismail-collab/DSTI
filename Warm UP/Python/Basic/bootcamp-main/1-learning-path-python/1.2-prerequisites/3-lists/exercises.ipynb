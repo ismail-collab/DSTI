{
 "cells": [
  {
   "cell_type": "markdown",
   "id": "eb17c9de",
   "metadata": {},
   "source": [
    "## Exercise 1\n",
    "\n",
    "- Create a list L containing 4,5,6\n",
    "- Change the second value of the list to 10\n",
    "- add value 11 to L\n",
    "- stack L with an additional sequence of values 6, 8"
   ]
  },
  {
   "cell_type": "code",
   "execution_count": null,
   "id": "f3ffd0a9",
   "metadata": {},
   "outputs": [],
   "source": []
  },
  {
   "cell_type": "markdown",
   "id": "863d700d",
   "metadata": {},
   "source": [
    "## Exercise 2\n",
    "\n",
    "- create a list of list LL, contaning\n",
    "    - a first list with values 10, 20 and 30\n",
    "    - a second list with values 40, 50 and 60\n",
    "    - a third list with values 70, 80 and 90\n",
    "- verify that LL is two-dimensional"
   ]
  },
  {
   "cell_type": "code",
   "execution_count": 1,
   "id": "a0e8970c",
   "metadata": {},
   "outputs": [],
   "source": []
  }
 ],
 "metadata": {
  "kernelspec": {
   "display_name": "Python 3 (ipykernel)",
   "language": "python",
   "name": "python3"
  },
  "language_info": {
   "codemirror_mode": {
    "name": "ipython",
    "version": 3
   },
   "file_extension": ".py",
   "mimetype": "text/x-python",
   "name": "python",
   "nbconvert_exporter": "python",
   "pygments_lexer": "ipython3",
   "version": "3.9.13"
  }
 },
 "nbformat": 4,
 "nbformat_minor": 5
}
