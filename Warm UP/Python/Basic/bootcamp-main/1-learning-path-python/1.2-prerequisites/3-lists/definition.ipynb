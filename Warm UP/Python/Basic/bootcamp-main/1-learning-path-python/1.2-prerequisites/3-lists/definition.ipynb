{
 "cells": [
  {
   "cell_type": "markdown",
   "id": "f54f70d1",
   "metadata": {},
   "source": [
    "# Definition\n",
    "\n",
    "- A list is a sequence of values, stored in a specific block of sequential memory\n",
    "- Lists can be declared with the constructor `list()`, or `[]`\n",
    "- Lists are divisible\n",
    "- Lists in python are mutable"
   ]
  },
  {
   "cell_type": "markdown",
   "id": "a5d624ca",
   "metadata": {},
   "source": [
    "- Sequences are series of variables. The following sequence 1,2,3 is declared as a list\n"
   ]
  },
  {
   "cell_type": "code",
   "execution_count": 2,
   "id": "1901d27d",
   "metadata": {},
   "outputs": [
    {
     "data": {
      "text/plain": [
       "[1, 2, 3]"
      ]
     },
     "execution_count": 2,
     "metadata": {},
     "output_type": "execute_result"
    }
   ],
   "source": [
    "[1, 2, 3]"
   ]
  },
  {
   "cell_type": "markdown",
   "id": "7b989211",
   "metadata": {},
   "source": [
    "- Variables can be stored in lists\n",
    "- The following sequence 1,2,3 is declared as a list with the `[]` constructor and stored in the list L"
   ]
  },
  {
   "cell_type": "code",
   "execution_count": 3,
   "id": "9872d075",
   "metadata": {},
   "outputs": [
    {
     "name": "stdout",
     "output_type": "stream",
     "text": [
      "[1, 2, 3]\n"
     ]
    }
   ],
   "source": [
    "L = [1,2,3]\n",
    "print(L)"
   ]
  },
  {
   "cell_type": "markdown",
   "id": "f20e395b",
   "metadata": {},
   "source": [
    "- Lists are divisible: list values can be accessed by index\n",
    "\n",
    "    - Note that indexing in python starts at 0\n",
    "    \n",
    "    - The first element of a list can be accessed at index 0"
   ]
  },
  {
   "cell_type": "code",
   "execution_count": 4,
   "id": "0fb870e2",
   "metadata": {},
   "outputs": [
    {
     "data": {
      "text/plain": [
       "1"
      ]
     },
     "execution_count": 4,
     "metadata": {},
     "output_type": "execute_result"
    }
   ],
   "source": [
    "L[0]"
   ]
  },
  {
   "cell_type": "markdown",
   "id": "21516857",
   "metadata": {},
   "source": [
    "- The latest element of a list can be accessed at -1"
   ]
  },
  {
   "cell_type": "code",
   "execution_count": 5,
   "id": "b9078bc4",
   "metadata": {},
   "outputs": [
    {
     "data": {
      "text/plain": [
       "3"
      ]
     },
     "execution_count": 5,
     "metadata": {},
     "output_type": "execute_result"
    }
   ],
   "source": [
    "L[-1]"
   ]
  },
  {
   "cell_type": "markdown",
   "id": "7ef75f6d",
   "metadata": {},
   "source": [
    "- Lists are mutable: a list can be modified with other mecanisms than affectation\n",
    "    - a value inside a list can be modified without reaffecting the whole list\n",
    "    - a list can be augmented by stacking or appending"
   ]
  },
  {
   "cell_type": "code",
   "execution_count": 6,
   "id": "f1a38030",
   "metadata": {},
   "outputs": [
    {
     "data": {
      "text/plain": [
       "[1, 5, 3]"
      ]
     },
     "execution_count": 6,
     "metadata": {},
     "output_type": "execute_result"
    }
   ],
   "source": [
    "# changing value at index 1\n",
    "#\n",
    "L[1] = 5\n",
    "L"
   ]
  },
  {
   "cell_type": "code",
   "execution_count": 7,
   "id": "e2da8590",
   "metadata": {},
   "outputs": [
    {
     "data": {
      "text/plain": [
       "[1, 5, 3, 10]"
      ]
     },
     "execution_count": 7,
     "metadata": {},
     "output_type": "execute_result"
    }
   ],
   "source": [
    "# stacking\n",
    "#\n",
    "L = L + [10]\n",
    "L"
   ]
  },
  {
   "cell_type": "code",
   "execution_count": 8,
   "id": "ef6cab4d",
   "metadata": {},
   "outputs": [
    {
     "data": {
      "text/plain": [
       "[1, 5, 3, 10, 60]"
      ]
     },
     "execution_count": 8,
     "metadata": {},
     "output_type": "execute_result"
    }
   ],
   "source": [
    "# appending\n",
    "#\n",
    "L.append(60)\n",
    "L"
   ]
  },
  {
   "cell_type": "markdown",
   "id": "78f8ef9b",
   "metadata": {},
   "source": [
    "- List can be declared with the constructor `list()` but `[]` is more efficient"
   ]
  },
  {
   "cell_type": "code",
   "execution_count": 9,
   "id": "5ea3054f",
   "metadata": {},
   "outputs": [
    {
     "name": "stdout",
     "output_type": "stream",
     "text": [
      "[]\n",
      "[2]\n",
      "[2]\n"
     ]
    }
   ],
   "source": [
    "# declaring an empty list\n",
    "#\n",
    "l = list()\n",
    "print(l)\n",
    "#\n",
    "# appending to the empty list\n",
    "#\n",
    "l.append(2)\n",
    "print(l)\n",
    "#\n",
    "# Most efficient\n",
    "l = [2]\n",
    "print(l)"
   ]
  },
  {
   "cell_type": "markdown",
   "id": "ab8aacd3",
   "metadata": {},
   "source": [
    "- Some built-in python methods can be called on lists\n",
    "    - `len()` will provide the length of a list\n",
    "    - `sum()` will sum the values in the list\n",
    "    - `max()` will return the highest value in a list of numerics\n",
    "    - `min()` will return the smallest value in a list of numerics"
   ]
  },
  {
   "cell_type": "code",
   "execution_count": 10,
   "id": "cd5a9630",
   "metadata": {},
   "outputs": [
    {
     "data": {
      "text/plain": [
       "5"
      ]
     },
     "execution_count": 10,
     "metadata": {},
     "output_type": "execute_result"
    }
   ],
   "source": [
    "# len\n",
    "#\n",
    "len(L)"
   ]
  },
  {
   "cell_type": "code",
   "execution_count": 11,
   "id": "86de4131",
   "metadata": {},
   "outputs": [
    {
     "data": {
      "text/plain": [
       "79"
      ]
     },
     "execution_count": 11,
     "metadata": {},
     "output_type": "execute_result"
    }
   ],
   "source": [
    "# sum\n",
    "# \n",
    "sum(L)"
   ]
  },
  {
   "cell_type": "code",
   "execution_count": 12,
   "id": "f63e7de3",
   "metadata": {},
   "outputs": [
    {
     "data": {
      "text/plain": [
       "60"
      ]
     },
     "execution_count": 12,
     "metadata": {},
     "output_type": "execute_result"
    }
   ],
   "source": [
    "# max\n",
    "#\n",
    "max(L)"
   ]
  },
  {
   "cell_type": "code",
   "execution_count": 13,
   "id": "4ae69f3d",
   "metadata": {},
   "outputs": [
    {
     "data": {
      "text/plain": [
       "1"
      ]
     },
     "execution_count": 13,
     "metadata": {},
     "output_type": "execute_result"
    }
   ],
   "source": [
    "# min\n",
    "# \n",
    "min(L)"
   ]
  },
  {
   "cell_type": "markdown",
   "id": "90798891",
   "metadata": {},
   "source": [
    "- List can be embedded in other lists\n",
    "- For instance, a list of list is the list equivalent of a two dimensional array\n",
    "- A list of list can be declared with `[[]]` or `append()`"
   ]
  },
  {
   "cell_type": "code",
   "execution_count": 14,
   "id": "cdebf736",
   "metadata": {},
   "outputs": [
    {
     "name": "stdout",
     "output_type": "stream",
     "text": [
      "[[1, 2, 3], [4, 5, 6]]\n"
     ]
    }
   ],
   "source": [
    "# Declaring a list of list LL with [[]]\n",
    "#\n",
    "LL = [[1,2,3],[4,5,6]]\n",
    "print(LL)"
   ]
  },
  {
   "cell_type": "code",
   "execution_count": 15,
   "id": "d8339626",
   "metadata": {},
   "outputs": [
    {
     "name": "stdout",
     "output_type": "stream",
     "text": [
      "[[1, 2, 3]]\n",
      "[[1, 2, 3], [4, 5, 6]]\n"
     ]
    }
   ],
   "source": [
    "# Declaring a list of list LL with append()\n",
    "#\n",
    "LL = []\n",
    "LL.append([1,2,3])\n",
    "print(LL)\n",
    "LL.append([4,5,6])\n",
    "print(LL)"
   ]
  },
  {
   "cell_type": "code",
   "execution_count": 16,
   "id": "7da7a45c",
   "metadata": {},
   "outputs": [
    {
     "data": {
      "text/plain": [
       "2"
      ]
     },
     "execution_count": 16,
     "metadata": {},
     "output_type": "execute_result"
    }
   ],
   "source": [
    "# The length of LL is 2, as it contains two dimensions: a first list level [], and a second list level[[]]\n",
    "#\n",
    "len(LL)"
   ]
  }
 ],
 "metadata": {
  "kernelspec": {
   "display_name": "Python 3 (ipykernel)",
   "language": "python",
   "name": "python3"
  },
  "language_info": {
   "codemirror_mode": {
    "name": "ipython",
    "version": 3
   },
   "file_extension": ".py",
   "mimetype": "text/x-python",
   "name": "python",
   "nbconvert_exporter": "python",
   "pygments_lexer": "ipython3",
   "version": "3.9.13"
  }
 },
 "nbformat": 4,
 "nbformat_minor": 5
}
