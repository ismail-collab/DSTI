{
 "cells": [
  {
   "cell_type": "markdown",
   "id": "5d6d58bf-2651-46c4-8ae3-e2669cefba0c",
   "metadata": {},
   "source": [
    "### Grouby method\n",
    "__groupby__ makes it easy to vizualize groups by categories\n",
    "\n",
    "It creates a groupby object that can be used with vectorizedfunctions and methods"
   ]
  },
  {
   "cell_type": "code",
   "execution_count": 1,
   "id": "294447c2-0b2c-495f-bcd1-c714c03ac3b7",
   "metadata": {},
   "outputs": [],
   "source": [
    "import pandas as pd"
   ]
  },
  {
   "cell_type": "code",
   "execution_count": 3,
   "id": "48a252b3-a065-4ed6-9b29-91598c4e0b09",
   "metadata": {},
   "outputs": [],
   "source": [
    "data = {\"var1\": [1, 2, 3, 4, 5, 6], \"var2\": [10, 20, 30, 40, 50, 60], \"var3\": [\"a\", \"b\", \"b\", \"d\", \"a\", \"f\"] }\n",
    "adf = pd.DataFrame(data)"
   ]
  },
  {
   "cell_type": "code",
   "execution_count": 4,
   "id": "cc42f0f1-a199-4b5b-add3-f0082a74e4c0",
   "metadata": {},
   "outputs": [
    {
     "data": {
      "text/plain": [
       "<pandas.core.groupby.generic.SeriesGroupBy object at 0x00000160D6ECDA90>"
      ]
     },
     "execution_count": 4,
     "metadata": {},
     "output_type": "execute_result"
    }
   ],
   "source": [
    "adf.groupby(\"var3\")[\"var1\"]"
   ]
  },
  {
   "cell_type": "code",
   "execution_count": 5,
   "id": "c96d08ff-2d1b-4e6e-b80b-558d9d500f77",
   "metadata": {},
   "outputs": [
    {
     "data": {
      "text/html": [
       "<div>\n",
       "<style scoped>\n",
       "    .dataframe tbody tr th:only-of-type {\n",
       "        vertical-align: middle;\n",
       "    }\n",
       "\n",
       "    .dataframe tbody tr th {\n",
       "        vertical-align: top;\n",
       "    }\n",
       "\n",
       "    .dataframe thead th {\n",
       "        text-align: right;\n",
       "    }\n",
       "</style>\n",
       "<table border=\"1\" class=\"dataframe\">\n",
       "  <thead>\n",
       "    <tr style=\"text-align: right;\">\n",
       "      <th></th>\n",
       "      <th>var1</th>\n",
       "      <th>var2</th>\n",
       "    </tr>\n",
       "    <tr>\n",
       "      <th>var3</th>\n",
       "      <th></th>\n",
       "      <th></th>\n",
       "    </tr>\n",
       "  </thead>\n",
       "  <tbody>\n",
       "    <tr>\n",
       "      <th>a</th>\n",
       "      <td>2</td>\n",
       "      <td>2</td>\n",
       "    </tr>\n",
       "    <tr>\n",
       "      <th>b</th>\n",
       "      <td>2</td>\n",
       "      <td>2</td>\n",
       "    </tr>\n",
       "    <tr>\n",
       "      <th>d</th>\n",
       "      <td>1</td>\n",
       "      <td>1</td>\n",
       "    </tr>\n",
       "    <tr>\n",
       "      <th>f</th>\n",
       "      <td>1</td>\n",
       "      <td>1</td>\n",
       "    </tr>\n",
       "  </tbody>\n",
       "</table>\n",
       "</div>"
      ],
      "text/plain": [
       "      var1  var2\n",
       "var3            \n",
       "a        2     2\n",
       "b        2     2\n",
       "d        1     1\n",
       "f        1     1"
      ]
     },
     "execution_count": 5,
     "metadata": {},
     "output_type": "execute_result"
    }
   ],
   "source": [
    "adf.groupby(\"var3\").count()"
   ]
  },
  {
   "cell_type": "code",
   "execution_count": 6,
   "id": "5aef391a-a4c7-4000-8fc9-7befbb908353",
   "metadata": {},
   "outputs": [
    {
     "data": {
      "text/plain": [
       "var3\n",
       "a    2\n",
       "b    2\n",
       "d    1\n",
       "f    1\n",
       "Name: var1, dtype: int64"
      ]
     },
     "execution_count": 6,
     "metadata": {},
     "output_type": "execute_result"
    }
   ],
   "source": [
    "adf.groupby(\"var3\")[\"var1\"].count()"
   ]
  },
  {
   "cell_type": "code",
   "execution_count": 12,
   "id": "83ee3856-93fc-48a4-8d3f-c59fa66693e1",
   "metadata": {},
   "outputs": [
    {
     "data": {
      "text/html": [
       "<div>\n",
       "<style scoped>\n",
       "    .dataframe tbody tr th:only-of-type {\n",
       "        vertical-align: middle;\n",
       "    }\n",
       "\n",
       "    .dataframe tbody tr th {\n",
       "        vertical-align: top;\n",
       "    }\n",
       "\n",
       "    .dataframe thead th {\n",
       "        text-align: right;\n",
       "    }\n",
       "</style>\n",
       "<table border=\"1\" class=\"dataframe\">\n",
       "  <thead>\n",
       "    <tr style=\"text-align: right;\">\n",
       "      <th></th>\n",
       "      <th>var1</th>\n",
       "      <th>var2</th>\n",
       "    </tr>\n",
       "    <tr>\n",
       "      <th>var3</th>\n",
       "      <th></th>\n",
       "      <th></th>\n",
       "    </tr>\n",
       "  </thead>\n",
       "  <tbody>\n",
       "    <tr>\n",
       "      <th>a</th>\n",
       "      <td>2</td>\n",
       "      <td>2</td>\n",
       "    </tr>\n",
       "    <tr>\n",
       "      <th>b</th>\n",
       "      <td>2</td>\n",
       "      <td>2</td>\n",
       "    </tr>\n",
       "    <tr>\n",
       "      <th>d</th>\n",
       "      <td>1</td>\n",
       "      <td>1</td>\n",
       "    </tr>\n",
       "    <tr>\n",
       "      <th>f</th>\n",
       "      <td>1</td>\n",
       "      <td>1</td>\n",
       "    </tr>\n",
       "  </tbody>\n",
       "</table>\n",
       "</div>"
      ],
      "text/plain": [
       "      var1  var2\n",
       "var3            \n",
       "a        2     2\n",
       "b        2     2\n",
       "d        1     1\n",
       "f        1     1"
      ]
     },
     "execution_count": 12,
     "metadata": {},
     "output_type": "execute_result"
    }
   ],
   "source": [
    "adf.groupby(\"var3\")[[\"var1\", \"var2\"]].count()"
   ]
  },
  {
   "cell_type": "code",
   "execution_count": 10,
   "id": "7a7f90c7-1d5d-4960-8c98-d378be4eb80b",
   "metadata": {},
   "outputs": [
    {
     "name": "stderr",
     "output_type": "stream",
     "text": [
      "C:\\Users\\flo95\\AppData\\Local\\Temp\\ipykernel_9408\\1169104610.py:2: FutureWarning: The provided callable <function mean at 0x00000160D4E198B0> is currently using SeriesGroupBy.mean. In a future version of pandas, the provided callable will be used directly. To keep current behavior pass the string \"mean\" instead.\n",
      "  adf.groupby(\"var3\")[\"var1\"].agg(np.mean)\n"
     ]
    },
    {
     "data": {
      "text/plain": [
       "var3\n",
       "a    3.0\n",
       "b    2.5\n",
       "d    4.0\n",
       "f    6.0\n",
       "Name: var1, dtype: float64"
      ]
     },
     "execution_count": 10,
     "metadata": {},
     "output_type": "execute_result"
    }
   ],
   "source": [
    "import numpy as np\n",
    "adf.groupby(\"var3\")[\"var1\"].agg(np.mean)"
   ]
  },
  {
   "cell_type": "code",
   "execution_count": 11,
   "id": "b4485edc-8a3e-4cb4-bc8f-89a587ee5fbe",
   "metadata": {},
   "outputs": [
    {
     "data": {
      "text/plain": [
       "var3\n",
       "a    3.0\n",
       "b    2.5\n",
       "d    4.0\n",
       "f    6.0\n",
       "Name: var1, dtype: float64"
      ]
     },
     "execution_count": 11,
     "metadata": {},
     "output_type": "execute_result"
    }
   ],
   "source": [
    "adf.groupby(\"var3\")[\"var1\"].mean()"
   ]
  },
  {
   "cell_type": "code",
   "execution_count": null,
   "id": "cc2bc9a7-752e-4770-8fe1-7736e9f18a87",
   "metadata": {},
   "outputs": [],
   "source": []
  }
 ],
 "metadata": {
  "kernelspec": {
   "display_name": "Python 3 (ipykernel)",
   "language": "python",
   "name": "python3"
  },
  "language_info": {
   "codemirror_mode": {
    "name": "ipython",
    "version": 3
   },
   "file_extension": ".py",
   "mimetype": "text/x-python",
   "name": "python",
   "nbconvert_exporter": "python",
   "pygments_lexer": "ipython3",
   "version": "3.9.19"
  }
 },
 "nbformat": 4,
 "nbformat_minor": 5
}
