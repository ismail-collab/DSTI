{
 "cells": [
  {
   "cell_type": "markdown",
   "id": "0e5e8a0e",
   "metadata": {},
   "source": [
    "- Load the airquality dataset\n",
    "\n",
    "- Filter the subset on conditions:\n",
    "    - Temp value superior to temp mean\n",
    "    - Wind value superior to wind mean\n",
    "\n",
    "- Create a function to convert degrees Fahrenheit to Celsius\n",
    "\n",
    "\n",
    "- Create a new variable (celsiusTemp) containing Temp in Celsius\n",
    "and sort by descending order\n",
    "\n",
    "\n",
    "- Reduce this dataset to celsiusTemp, Ozone and Wind\n",
    "\n",
    "- Group by Ozone levels and summarize by Ozone level"
   ]
  },
  {
   "cell_type": "code",
   "execution_count": null,
   "id": "a59f264c",
   "metadata": {},
   "outputs": [],
   "source": []
  }
 ],
 "metadata": {
  "kernelspec": {
   "display_name": "Python 3 (ipykernel)",
   "language": "python",
   "name": "python3"
  },
  "language_info": {
   "codemirror_mode": {
    "name": "ipython",
    "version": 3
   },
   "file_extension": ".py",
   "mimetype": "text/x-python",
   "name": "python",
   "nbconvert_exporter": "python",
   "pygments_lexer": "ipython3",
   "version": "3.11.5"
  }
 },
 "nbformat": 4,
 "nbformat_minor": 5
}
