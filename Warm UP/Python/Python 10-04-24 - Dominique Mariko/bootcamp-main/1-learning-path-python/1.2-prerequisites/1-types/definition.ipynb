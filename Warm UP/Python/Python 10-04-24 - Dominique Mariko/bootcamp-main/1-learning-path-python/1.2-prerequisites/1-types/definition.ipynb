{
 "cells": [
  {
   "cell_type": "markdown",
   "id": "bc714ecf",
   "metadata": {},
   "source": [
    "# Definition\n",
    "\n",
    "## Built-in types\n",
    "\n",
    "- Built-in data types are data types that are built into the Python interpreter\n",
    "- It means they are pre-defined in python and can be used directly into the programm"
   ]
  },
  {
   "cell_type": "markdown",
   "id": "e34b266b",
   "metadata": {},
   "source": [
    "## Available built-in types in python\n",
    "\n",
    "For a comprehensive view of python available built-in types, check [python 3.9 standard library documentation](https://docs.python.org/3.9/library/stdtypes.html)\n",
    "\n",
    "This list contains only the most common built-in types.\n",
    "\n",
    "The methods associated to the different types allows to affect a specific type to an object, i.e. turn a `str` to `int` if the value in the variable is compatible. For some examples, see [variables](https://github.com/tiptales/bootcamp/tree/main/1-learning-path-python/1.2-prerequisites/0-variables)\n",
    "\n",
    "\n",
    "| Group      | type      | constructor  |  instance |\n",
    "|------------|-----------|--------------|           | \n",
    "| None       | object    | None         |None       |\n",
    "| Numbers    | int       | int()        |2   |\n",
    "|            | long      | long()       |2.896547..   |\n",
    "|            | float     | float()      |2.8  |\n",
    "|            | complex   | complex()    |1j   |\n",
    "|            | bool      | bool()       |True, False   |\n",
    "| Characters | str       | str()        |'a'     |\n",
    "| Sequences  | list      | list()       |[1, 2]   |\n",
    "|            | tuple     | tuple()      | (1,2)|  \n",
    "|            | range     | range()      | range(2)  \n",
    "| Mapping    | dict      | dict()       | {'A': 2} |  \n",
    "| Sets       | set       | set()        | {1, 2, 3} |  \n",
    "\n"
   ]
  },
  {
   "cell_type": "markdown",
   "id": "8cc43c71",
   "metadata": {},
   "source": [
    "## Dynamic types\n",
    "\n",
    "- Python is a dynamically typed langage: Python interpreter does type checking only as code runs.\n",
    "    - The type of a variable is allowed to change over its lifetime.\n",
    "        - A variable can be initiated with a type and turned into another type\n",
    "        - For instance, a variable a defined as \"2.5\" can be turned into 2.5 using the *float()* function\n",
    "    - The type of some other built-in objects are allowed to change over time\n",
    "        - For instance, a list can be turned into a tuple or a set"
   ]
  },
  {
   "cell_type": "markdown",
   "id": "402d1065",
   "metadata": {},
   "source": [
    "- Turning a string to a float"
   ]
  },
  {
   "cell_type": "code",
   "execution_count": 1,
   "id": "bac52c14",
   "metadata": {},
   "outputs": [
    {
     "name": "stdout",
     "output_type": "stream",
     "text": [
      "<class 'str'> 2.5\n",
      "<class 'float'> 2.5\n"
     ]
    }
   ],
   "source": [
    "b = \"2.5\"\n",
    "print(type(b), b)\n",
    "b = float(b)\n",
    "print(type(b), b)"
   ]
  },
  {
   "cell_type": "markdown",
   "id": "b3ad9840",
   "metadata": {},
   "source": [
    "- Turning a list into a tuple or a set"
   ]
  },
  {
   "cell_type": "code",
   "execution_count": 1,
   "id": "2cb426b0",
   "metadata": {},
   "outputs": [
    {
     "data": {
      "text/plain": [
       "(1, 2)"
      ]
     },
     "execution_count": 1,
     "metadata": {},
     "output_type": "execute_result"
    }
   ],
   "source": [
    "tuple([1,2])"
   ]
  },
  {
   "cell_type": "code",
   "execution_count": 2,
   "id": "d806cca9",
   "metadata": {},
   "outputs": [
    {
     "data": {
      "text/plain": [
       "{1, 2}"
      ]
     },
     "execution_count": 2,
     "metadata": {},
     "output_type": "execute_result"
    }
   ],
   "source": [
    "set([1,2])"
   ]
  },
  {
   "cell_type": "markdown",
   "id": "b7d6f1b7",
   "metadata": {},
   "source": [
    "- Built-in types examples"
   ]
  },
  {
   "cell_type": "code",
   "execution_count": 2,
   "id": "7db07cff",
   "metadata": {},
   "outputs": [
    {
     "data": {
      "text/plain": [
       "int"
      ]
     },
     "execution_count": 2,
     "metadata": {},
     "output_type": "execute_result"
    }
   ],
   "source": [
    "type(2)"
   ]
  },
  {
   "cell_type": "code",
   "execution_count": 3,
   "id": "c5bdad06",
   "metadata": {},
   "outputs": [
    {
     "data": {
      "text/plain": [
       "float"
      ]
     },
     "execution_count": 3,
     "metadata": {},
     "output_type": "execute_result"
    }
   ],
   "source": [
    "type(2.5)"
   ]
  },
  {
   "cell_type": "code",
   "execution_count": 4,
   "id": "5f1740c5",
   "metadata": {},
   "outputs": [
    {
     "data": {
      "text/plain": [
       "complex"
      ]
     },
     "execution_count": 4,
     "metadata": {},
     "output_type": "execute_result"
    }
   ],
   "source": [
    "type(1+3j)"
   ]
  },
  {
   "cell_type": "code",
   "execution_count": 5,
   "id": "cc60be82",
   "metadata": {},
   "outputs": [
    {
     "data": {
      "text/plain": [
       "str"
      ]
     },
     "execution_count": 5,
     "metadata": {},
     "output_type": "execute_result"
    }
   ],
   "source": [
    "type('abc')"
   ]
  },
  {
   "cell_type": "code",
   "execution_count": 8,
   "id": "581c2f11",
   "metadata": {},
   "outputs": [
    {
     "data": {
      "text/plain": [
       "list"
      ]
     },
     "execution_count": 8,
     "metadata": {},
     "output_type": "execute_result"
    }
   ],
   "source": [
    "type([1,2,3])"
   ]
  },
  {
   "cell_type": "code",
   "execution_count": 9,
   "id": "cc5b343b",
   "metadata": {},
   "outputs": [
    {
     "data": {
      "text/plain": [
       "dict"
      ]
     },
     "execution_count": 9,
     "metadata": {},
     "output_type": "execute_result"
    }
   ],
   "source": [
    "type({'A': 2})"
   ]
  },
  {
   "cell_type": "code",
   "execution_count": 10,
   "id": "e67c60e7",
   "metadata": {},
   "outputs": [
    {
     "data": {
      "text/plain": [
       "range"
      ]
     },
     "execution_count": 10,
     "metadata": {},
     "output_type": "execute_result"
    }
   ],
   "source": [
    "type(range(5))"
   ]
  },
  {
   "cell_type": "code",
   "execution_count": 11,
   "id": "4ea0bd8b",
   "metadata": {},
   "outputs": [
    {
     "data": {
      "text/plain": [
       "tuple"
      ]
     },
     "execution_count": 11,
     "metadata": {},
     "output_type": "execute_result"
    }
   ],
   "source": [
    "type((1,2,3))"
   ]
  },
  {
   "cell_type": "code",
   "execution_count": 12,
   "id": "12adc4c4",
   "metadata": {},
   "outputs": [
    {
     "data": {
      "text/plain": [
       "set"
      ]
     },
     "execution_count": 12,
     "metadata": {},
     "output_type": "execute_result"
    }
   ],
   "source": [
    "type({1, 2, 3})"
   ]
  },
  {
   "cell_type": "code",
   "execution_count": null,
   "id": "d7c6ef54",
   "metadata": {},
   "outputs": [],
   "source": []
  }
 ],
 "metadata": {
  "kernelspec": {
   "display_name": "Python 3 (ipykernel)",
   "language": "python",
   "name": "python3"
  },
  "language_info": {
   "codemirror_mode": {
    "name": "ipython",
    "version": 3
   },
   "file_extension": ".py",
   "mimetype": "text/x-python",
   "name": "python",
   "nbconvert_exporter": "python",
   "pygments_lexer": "ipython3",
   "version": "3.9.13"
  }
 },
 "nbformat": 4,
 "nbformat_minor": 5
}
