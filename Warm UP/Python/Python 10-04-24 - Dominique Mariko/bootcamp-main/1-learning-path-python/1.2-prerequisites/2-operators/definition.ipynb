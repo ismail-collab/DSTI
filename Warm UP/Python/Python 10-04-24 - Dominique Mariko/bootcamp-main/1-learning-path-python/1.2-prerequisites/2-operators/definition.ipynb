{
 "cells": [
  {
   "cell_type": "markdown",
   "id": "c97a862a",
   "metadata": {},
   "source": [
    "# Defintion\n",
    "\n",
    "- Operators are a set of functions of the operator module. \n",
    "- Abstract operations corresponding to operator symbols are described in the [python 3.9 documentation](https://docs.python.org/3/library/operator.html#mapping-operators-to-functions)\n",
    "\n"
   ]
  }
 ],
 "metadata": {
  "kernelspec": {
   "display_name": "Python 3 (ipykernel)",
   "language": "python",
   "name": "python3"
  },
  "language_info": {
   "codemirror_mode": {
    "name": "ipython",
    "version": 3
   },
   "file_extension": ".py",
   "mimetype": "text/x-python",
   "name": "python",
   "nbconvert_exporter": "python",
   "pygments_lexer": "ipython3",
   "version": "3.9.13"
  }
 },
 "nbformat": 4,
 "nbformat_minor": 5
}
