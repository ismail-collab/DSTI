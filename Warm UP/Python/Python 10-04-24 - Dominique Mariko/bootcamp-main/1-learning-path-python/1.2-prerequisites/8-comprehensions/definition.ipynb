{
 "cells": [
  {
   "cell_type": "markdown",
   "id": "8eda7f5d",
   "metadata": {},
   "source": [
    "# Definition\n",
    "\n",
    "- A comprehension is another way of using iterators\n",
    "- It can efficently replace a for loop and executes faster\n",
    "- In a comprehension, the `iterator` and `for` statement are on the right of the expression, the returned value on the left\n",
    "- Comprehensions can be applied to lists or dictionaries\n",
    "- A list comprehension is declared inside `[]` and returns a list\n",
    "- A dictionary comprehension is declared inside `{}` and returns a dictionary"
   ]
  },
  {
   "cell_type": "markdown",
   "id": "265555bf",
   "metadata": {},
   "source": [
    "- List comprehension example: the following iterator can be replaced with a list comprehension"
   ]
  },
  {
   "cell_type": "code",
   "execution_count": 4,
   "id": "d27e7b8f",
   "metadata": {},
   "outputs": [
    {
     "data": {
      "text/plain": [
       "[2, 4, 6]"
      ]
     },
     "execution_count": 4,
     "metadata": {},
     "output_type": "execute_result"
    }
   ],
   "source": [
    "l = []\n",
    "for i in [1,2,3]:\n",
    "    l.append(i*2)\n",
    "l"
   ]
  },
  {
   "cell_type": "code",
   "execution_count": 1,
   "id": "3632fef7",
   "metadata": {},
   "outputs": [
    {
     "data": {
      "text/plain": [
       "[2, 4, 6]"
      ]
     },
     "execution_count": 1,
     "metadata": {},
     "output_type": "execute_result"
    }
   ],
   "source": [
    "# Equivalent list comprehension\n",
    "#\n",
    "ll = [i*2 for i in [1,2,3]]\n",
    "ll"
   ]
  },
  {
   "cell_type": "markdown",
   "id": "ae7659c6",
   "metadata": {},
   "source": [
    "- List comprehensions accept multiple statements"
   ]
  },
  {
   "cell_type": "code",
   "execution_count": 7,
   "id": "628d2cd4",
   "metadata": {},
   "outputs": [
    {
     "data": {
      "text/plain": [
       "[2]"
      ]
     },
     "execution_count": 7,
     "metadata": {},
     "output_type": "execute_result"
    }
   ],
   "source": [
    "[i for i in range(5) if i ==2]"
   ]
  },
  {
   "cell_type": "markdown",
   "id": "71e012c3",
   "metadata": {},
   "source": [
    " - List comprehension are very usefull to optimize runtime"
   ]
  },
  {
   "cell_type": "code",
   "execution_count": 12,
   "id": "d0e44a97",
   "metadata": {},
   "outputs": [
    {
     "name": "stdout",
     "output_type": "stream",
     "text": [
      "[0.0, 1.3862943611198906, 3.044522437723423, 1.9459101490553132]\n",
      "[0.0, 1.3862943611198906, 3.044522437723423, 1.9459101490553132]\n"
     ]
    }
   ],
   "source": [
    "import math\n",
    "\n",
    "# iterator and for statement\n",
    "a=[1,4,21,7]\n",
    "b=[]\n",
    "for i in a:\n",
    "    b.append(math.log(i))\n",
    "print(b)\n",
    "\n",
    "# list comprehension equivalent\n",
    "c= [math.log(i) for i in a]\n",
    "print(c)"
   ]
  }
 ],
 "metadata": {
  "kernelspec": {
   "display_name": "Python 3 (ipykernel)",
   "language": "python",
   "name": "python3"
  },
  "language_info": {
   "codemirror_mode": {
    "name": "ipython",
    "version": 3
   },
   "file_extension": ".py",
   "mimetype": "text/x-python",
   "name": "python",
   "nbconvert_exporter": "python",
   "pygments_lexer": "ipython3",
   "version": "3.9.13"
  }
 },
 "nbformat": 4,
 "nbformat_minor": 5
}
