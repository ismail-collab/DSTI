{
 "cells": [
  {
   "cell_type": "markdown",
   "id": "30315cad",
   "metadata": {},
   "source": [
    "## Exercise 1\n",
    "\n",
    "- create a list `L` containing values 10, 20 and 30\n",
    "- iterate over this list to multiply each element by 2 and print it"
   ]
  },
  {
   "cell_type": "code",
   "execution_count": null,
   "id": "a4a8bd3e",
   "metadata": {},
   "outputs": [],
   "source": []
  },
  {
   "cell_type": "markdown",
   "id": "87b46124",
   "metadata": {},
   "source": [
    "## Exercise 2\n",
    "\n",
    "- iterate over the index of `L` and print the index\n",
    "\n",
    "\n",
    "#### Hint\n",
    "\n",
    "   - the return of the *enumerate()* method is of type `tuple` : (x, y), where x is the index of the value, y is the value\n",
    "   - a tuple can be unpacked inplace, for instance the tuple (0,1) can be unpacked as follows:\n",
    "        - a, b = (1,2)\n",
    "        - this will affect 1 to variable `a`, 2 to variable `b`"
   ]
  },
  {
   "cell_type": "code",
   "execution_count": 1,
   "id": "532d9de6",
   "metadata": {},
   "outputs": [
    {
     "name": "stdout",
     "output_type": "stream",
     "text": [
      "1\n",
      "2\n"
     ]
    }
   ],
   "source": [
    "# hint: tuple unpacking\n",
    "#\n",
    "a, b = (1,2)\n",
    "print(a)\n",
    "print(b)"
   ]
  },
  {
   "cell_type": "code",
   "execution_count": null,
   "id": "f708496d",
   "metadata": {},
   "outputs": [],
   "source": []
  },
  {
   "cell_type": "markdown",
   "id": "0732531f",
   "metadata": {},
   "source": [
    "## Exercise 3\n",
    "\n",
    "- create a list of list `LL`\n",
    "    - `LL` contains a first list with values 10, 20 and 30\n",
    "    - `LL` contains a second list with values 40, 50 and 60\n",
    "- iterate over `LL` to change the second value in each subslist to 0\n",
    "- the expected result is: \n",
    "    - LL = [[10, 0, 30], [40, 0, 60]]\n",
    "    \n",
    "#### Hint\n",
    "\n",
    "- python treats each indented statement as a single instruction\n",
    "    - try to access the sublist with a for loop and print them\n",
    "    - try to access the values in the sublist and print them\n"
   ]
  },
  {
   "cell_type": "code",
   "execution_count": null,
   "id": "cca4b3d6",
   "metadata": {},
   "outputs": [],
   "source": []
  }
 ],
 "metadata": {
  "kernelspec": {
   "display_name": "Python 3 (ipykernel)",
   "language": "python",
   "name": "python3"
  },
  "language_info": {
   "codemirror_mode": {
    "name": "ipython",
    "version": 3
   },
   "file_extension": ".py",
   "mimetype": "text/x-python",
   "name": "python",
   "nbconvert_exporter": "python",
   "pygments_lexer": "ipython3",
   "version": "3.9.13"
  }
 },
 "nbformat": 4,
 "nbformat_minor": 5
}
