{
 "cells": [
  {
   "cell_type": "markdown",
   "id": "eaa0f372",
   "metadata": {},
   "source": [
    "### Exercise 1\n",
    "\n",
    "- Define a function `add1()` that takes any numeric x as an argument and returns x + 1"
   ]
  },
  {
   "cell_type": "code",
   "execution_count": null,
   "id": "64979138",
   "metadata": {},
   "outputs": [],
   "source": []
  },
  {
   "cell_type": "markdown",
   "id": "c95c7750",
   "metadata": {},
   "source": [
    "### Exercise 2\n",
    "\n",
    "- Define a function `add_one_list()` \n",
    "- this function takes any list x as an argument\n",
    "- this function iterates over the list\n",
    "- adds 1 to each value in the list\n",
    "- stores the results in a new list"
   ]
  },
  {
   "cell_type": "code",
   "execution_count": null,
   "id": "e495d268",
   "metadata": {},
   "outputs": [],
   "source": []
  },
  {
   "cell_type": "markdown",
   "id": "3e323710",
   "metadata": {},
   "source": [
    "### Exercise 3\n",
    "\n",
    "- Define a function `even_or_odd()`\n",
    "- this function takes any integer as an argument\n",
    "- this function computes the modulo of the input with %2\n",
    "- if %2 is equal to 0, the function prints \"is even\"\n",
    "- else, the function prints \"is odd\""
   ]
  },
  {
   "cell_type": "code",
   "execution_count": null,
   "id": "79363936",
   "metadata": {},
   "outputs": [],
   "source": []
  },
  {
   "cell_type": "markdown",
   "id": "6d5b9540",
   "metadata": {},
   "source": [
    "### Exercise 4\n",
    "\n",
    "- Define a function `even_or_odd_list()`\n",
    "- this function takes any list as an argument\n",
    "- this function iterates over the list\n",
    "- this function computes the modulo of the input with %2 for each element in the list\n",
    "- if %2 is equal to 0, the function prints (element)\"is even\"\n",
    "- else, the function prints (element)\"is odd\""
   ]
  },
  {
   "cell_type": "code",
   "execution_count": null,
   "id": "ff97a15a",
   "metadata": {},
   "outputs": [],
   "source": []
  }
 ],
 "metadata": {
  "kernelspec": {
   "display_name": "Python 3 (ipykernel)",
   "language": "python",
   "name": "python3"
  },
  "language_info": {
   "codemirror_mode": {
    "name": "ipython",
    "version": 3
   },
   "file_extension": ".py",
   "mimetype": "text/x-python",
   "name": "python",
   "nbconvert_exporter": "python",
   "pygments_lexer": "ipython3",
   "version": "3.9.13"
  }
 },
 "nbformat": 4,
 "nbformat_minor": 5
}
